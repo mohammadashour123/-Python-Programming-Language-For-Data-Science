{
 "cells": [
  {
   "cell_type": "code",
   "execution_count": 51,
   "id": "8a0b9df8",
   "metadata": {},
   "outputs": [],
   "source": [
    "class A : \n",
    "    \n",
    "    def __init__(self , name) : \n",
    "        self.name = name \n",
    "   \n",
    "    \n",
    "    def display_name(self) : \n",
    "        print(\"your name is\" , self.name)\n",
    "        \n",
    "class B(A): \n",
    "    \n",
    "    def __init__(self , name ) : \n",
    "        super().__init__(name)\n",
    "       # A.__init__(self , name)\n",
    "    "
   ]
  },
  {
   "cell_type": "code",
   "execution_count": 55,
   "id": "42aaef09",
   "metadata": {},
   "outputs": [],
   "source": [
    "obj1 = A(\"mohammad\"  )"
   ]
  },
  {
   "cell_type": "code",
   "execution_count": 53,
   "id": "464cfa85",
   "metadata": {},
   "outputs": [
    {
     "name": "stdout",
     "output_type": "stream",
     "text": [
      "your name is mohammad\n"
     ]
    }
   ],
   "source": [
    "obj1.display_name()\n"
   ]
  },
  {
   "cell_type": "code",
   "execution_count": 54,
   "id": "f9a930f0",
   "metadata": {},
   "outputs": [],
   "source": [
    "obj_b = B(\"ahmed\")"
   ]
  },
  {
   "cell_type": "code",
   "execution_count": 39,
   "id": "373d18ef",
   "metadata": {},
   "outputs": [
    {
     "name": "stdout",
     "output_type": "stream",
     "text": [
      "your name is ahmed\n"
     ]
    }
   ],
   "source": [
    "obj_b.display_name()"
   ]
  },
  {
   "cell_type": "code",
   "execution_count": null,
   "id": "4566d2fe",
   "metadata": {},
   "outputs": [],
   "source": []
  }
 ],
 "metadata": {
  "kernelspec": {
   "display_name": "Python 3 (ipykernel)",
   "language": "python",
   "name": "python3"
  },
  "language_info": {
   "codemirror_mode": {
    "name": "ipython",
    "version": 3
   },
   "file_extension": ".py",
   "mimetype": "text/x-python",
   "name": "python",
   "nbconvert_exporter": "python",
   "pygments_lexer": "ipython3",
   "version": "3.9.12"
  }
 },
 "nbformat": 4,
 "nbformat_minor": 5
}
