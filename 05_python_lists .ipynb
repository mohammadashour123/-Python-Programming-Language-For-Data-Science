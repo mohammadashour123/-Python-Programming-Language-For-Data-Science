{
 "cells": [
  {
   "cell_type": "markdown",
   "id": "b1ea8591",
   "metadata": {},
   "source": [
    "### Python List\n",
    "Python list holds the ordered collection of items. We can store a sequence of items in a list. Python list is mutable which means it can be modified after its creation. The items of lists are enclosed within the square bracket [] and separated by the comma. Let's see the example of list."
   ]
  },
  {
   "cell_type": "code",
   "execution_count": 156,
   "id": "0e86cdb0",
   "metadata": {},
   "outputs": [],
   "source": [
    "l1 = [\"John\", 102, \"USA\"]      \n",
    "l2 = [1, 2, 3, 4, 5, 6]  "
   ]
  },
  {
   "cell_type": "code",
   "execution_count": 157,
   "id": "7825da3b",
   "metadata": {},
   "outputs": [
    {
     "name": "stdout",
     "output_type": "stream",
     "text": [
      "['John', 102, 'USA']\n"
     ]
    }
   ],
   "source": [
    "print(l1)"
   ]
  },
  {
   "cell_type": "code",
   "execution_count": 158,
   "id": "974b93d4",
   "metadata": {},
   "outputs": [
    {
     "name": "stdout",
     "output_type": "stream",
     "text": [
      "[1, 2, 3, 4, 5, 6]\n"
     ]
    }
   ],
   "source": [
    "print(l2)"
   ]
  },
  {
   "cell_type": "code",
   "execution_count": 159,
   "id": "fd90e5b7",
   "metadata": {},
   "outputs": [
    {
     "name": "stdout",
     "output_type": "stream",
     "text": [
      "<class 'list'>\n"
     ]
    }
   ],
   "source": [
    "print(type(l1))"
   ]
  },
  {
   "cell_type": "code",
   "execution_count": 160,
   "id": "4154e169",
   "metadata": {},
   "outputs": [
    {
     "name": "stdout",
     "output_type": "stream",
     "text": [
      "<class 'list'>\n"
     ]
    }
   ],
   "source": [
    "print(type(l2))"
   ]
  },
  {
   "cell_type": "markdown",
   "id": "f16d9bf8",
   "metadata": {},
   "source": [
    "**Index Operator**"
   ]
  },
  {
   "cell_type": "code",
   "execution_count": 161,
   "id": "d556cdb3",
   "metadata": {},
   "outputs": [
    {
     "data": {
      "text/plain": [
       "['John', 102, 'USA']"
      ]
     },
     "execution_count": 161,
     "metadata": {},
     "output_type": "execute_result"
    }
   ],
   "source": [
    "l1"
   ]
  },
  {
   "cell_type": "code",
   "execution_count": 162,
   "id": "5b515e67",
   "metadata": {},
   "outputs": [
    {
     "data": {
      "text/plain": [
       "'John'"
      ]
     },
     "execution_count": 162,
     "metadata": {},
     "output_type": "execute_result"
    }
   ],
   "source": [
    "l1[0]"
   ]
  },
  {
   "cell_type": "code",
   "execution_count": 163,
   "id": "c8d529fb",
   "metadata": {},
   "outputs": [
    {
     "data": {
      "text/plain": [
       "102"
      ]
     },
     "execution_count": 163,
     "metadata": {},
     "output_type": "execute_result"
    }
   ],
   "source": [
    "l1[1]"
   ]
  },
  {
   "cell_type": "code",
   "execution_count": 164,
   "id": "7480578f",
   "metadata": {},
   "outputs": [
    {
     "data": {
      "text/plain": [
       "'USA'"
      ]
     },
     "execution_count": 164,
     "metadata": {},
     "output_type": "execute_result"
    }
   ],
   "source": [
    "l1[2]"
   ]
  },
  {
   "cell_type": "code",
   "execution_count": 165,
   "id": "b05f1647",
   "metadata": {},
   "outputs": [
    {
     "data": {
      "text/plain": [
       "[1, 2]"
      ]
     },
     "execution_count": 165,
     "metadata": {},
     "output_type": "execute_result"
    }
   ],
   "source": [
    "l2[0:2]"
   ]
  },
  {
   "cell_type": "code",
   "execution_count": 166,
   "id": "d144582e",
   "metadata": {},
   "outputs": [
    {
     "data": {
      "text/plain": [
       "6"
      ]
     },
     "execution_count": 166,
     "metadata": {},
     "output_type": "execute_result"
    }
   ],
   "source": [
    "l2[-1]"
   ]
  },
  {
   "cell_type": "code",
   "execution_count": 167,
   "id": "66ea82d4",
   "metadata": {},
   "outputs": [
    {
     "data": {
      "text/plain": [
       "[1, 2, 3]"
      ]
     },
     "execution_count": 167,
     "metadata": {},
     "output_type": "execute_result"
    }
   ],
   "source": [
    "l2[0:3]"
   ]
  },
  {
   "cell_type": "markdown",
   "id": "8c8ea7df",
   "metadata": {},
   "source": [
    "**len() function**"
   ]
  },
  {
   "cell_type": "code",
   "execution_count": 168,
   "id": "d8c909ff",
   "metadata": {},
   "outputs": [
    {
     "name": "stdout",
     "output_type": "stream",
     "text": [
      "3\n"
     ]
    }
   ],
   "source": [
    "print(len(l1))"
   ]
  },
  {
   "cell_type": "code",
   "execution_count": 169,
   "id": "93884f2a",
   "metadata": {},
   "outputs": [
    {
     "name": "stdout",
     "output_type": "stream",
     "text": [
      "6\n"
     ]
    }
   ],
   "source": [
    "print(len(l2))"
   ]
  },
  {
   "cell_type": "markdown",
   "id": "9093f13f",
   "metadata": {},
   "source": [
    "**in operator**"
   ]
  },
  {
   "cell_type": "code",
   "execution_count": 170,
   "id": "bb2a027d",
   "metadata": {},
   "outputs": [
    {
     "data": {
      "text/plain": [
       "False"
      ]
     },
     "execution_count": 170,
     "metadata": {},
     "output_type": "execute_result"
    }
   ],
   "source": [
    "10 in l1"
   ]
  },
  {
   "cell_type": "code",
   "execution_count": 171,
   "id": "4a774f59",
   "metadata": {},
   "outputs": [
    {
     "data": {
      "text/plain": [
       "False"
      ]
     },
     "execution_count": 171,
     "metadata": {},
     "output_type": "execute_result"
    }
   ],
   "source": [
    "20 in l2"
   ]
  },
  {
   "cell_type": "code",
   "execution_count": 172,
   "id": "d17be6cc",
   "metadata": {},
   "outputs": [
    {
     "data": {
      "text/plain": [
       "True"
      ]
     },
     "execution_count": 172,
     "metadata": {},
     "output_type": "execute_result"
    }
   ],
   "source": [
    "5 in l2"
   ]
  },
  {
   "cell_type": "markdown",
   "id": "9f3b7449",
   "metadata": {},
   "source": [
    "**append and insert functions**"
   ]
  },
  {
   "cell_type": "code",
   "execution_count": 173,
   "id": "2d6c3975",
   "metadata": {},
   "outputs": [],
   "source": [
    "my_list = [\"mostafa \", \"ali\" , 10 , 20 , \"mazen\" , \"medhat\" , 30 , 50 ]"
   ]
  },
  {
   "cell_type": "code",
   "execution_count": 174,
   "id": "a4bd804a",
   "metadata": {},
   "outputs": [
    {
     "name": "stdout",
     "output_type": "stream",
     "text": [
      "['mostafa ', 'ali', 10, 20, 'mazen', 'medhat', 30, 50]\n"
     ]
    }
   ],
   "source": [
    "print(my_list)"
   ]
  },
  {
   "cell_type": "code",
   "execution_count": 175,
   "id": "b744cb37",
   "metadata": {},
   "outputs": [],
   "source": [
    "my_list.append(\"akram\")"
   ]
  },
  {
   "cell_type": "code",
   "execution_count": 176,
   "id": "0cc4fdb4",
   "metadata": {},
   "outputs": [
    {
     "data": {
      "text/plain": [
       "['mostafa ', 'ali', 10, 20, 'mazen', 'medhat', 30, 50, 'akram']"
      ]
     },
     "execution_count": 176,
     "metadata": {},
     "output_type": "execute_result"
    }
   ],
   "source": [
    "my_list"
   ]
  },
  {
   "cell_type": "code",
   "execution_count": 177,
   "id": "964a3581",
   "metadata": {},
   "outputs": [],
   "source": [
    "my_list.insert(0,\"First name\")"
   ]
  },
  {
   "cell_type": "code",
   "execution_count": 178,
   "id": "9f50fafc",
   "metadata": {},
   "outputs": [
    {
     "data": {
      "text/plain": [
       "['First name', 'mostafa ', 'ali', 10, 20, 'mazen', 'medhat', 30, 50, 'akram']"
      ]
     },
     "execution_count": 178,
     "metadata": {},
     "output_type": "execute_result"
    }
   ],
   "source": [
    "my_list"
   ]
  },
  {
   "cell_type": "code",
   "execution_count": 179,
   "id": "c0d60c8b",
   "metadata": {},
   "outputs": [],
   "source": [
    "my_list.insert(2 , \"replaced ali \")"
   ]
  },
  {
   "cell_type": "code",
   "execution_count": 180,
   "id": "277b2c8e",
   "metadata": {},
   "outputs": [
    {
     "data": {
      "text/plain": [
       "['First name',\n",
       " 'mostafa ',\n",
       " 'replaced ali ',\n",
       " 'ali',\n",
       " 10,\n",
       " 20,\n",
       " 'mazen',\n",
       " 'medhat',\n",
       " 30,\n",
       " 50,\n",
       " 'akram']"
      ]
     },
     "execution_count": 180,
     "metadata": {},
     "output_type": "execute_result"
    }
   ],
   "source": [
    "my_list"
   ]
  },
  {
   "cell_type": "code",
   "execution_count": 181,
   "id": "f85ee0d1",
   "metadata": {},
   "outputs": [],
   "source": [
    "my_list.append(\"append element at last \")"
   ]
  },
  {
   "cell_type": "code",
   "execution_count": 182,
   "id": "d7acf37d",
   "metadata": {},
   "outputs": [
    {
     "data": {
      "text/plain": [
       "['First name',\n",
       " 'mostafa ',\n",
       " 'replaced ali ',\n",
       " 'ali',\n",
       " 10,\n",
       " 20,\n",
       " 'mazen',\n",
       " 'medhat',\n",
       " 30,\n",
       " 50,\n",
       " 'akram',\n",
       " 'append element at last ']"
      ]
     },
     "execution_count": 182,
     "metadata": {},
     "output_type": "execute_result"
    }
   ],
   "source": [
    "my_list"
   ]
  },
  {
   "cell_type": "markdown",
   "id": "b55fbdb6",
   "metadata": {},
   "source": [
    "**Adding two lists**"
   ]
  },
  {
   "cell_type": "code",
   "execution_count": 183,
   "id": "4628f8e4",
   "metadata": {},
   "outputs": [],
   "source": [
    "first = [\"10\" , \"ali\" , \"mazen\"]\n",
    "sec = [\"ahmed\" , 20 , \"60\"]"
   ]
  },
  {
   "cell_type": "code",
   "execution_count": 184,
   "id": "aac06bc5",
   "metadata": {},
   "outputs": [
    {
     "data": {
      "text/plain": [
       "['10', 'ali', 'mazen']"
      ]
     },
     "execution_count": 184,
     "metadata": {},
     "output_type": "execute_result"
    }
   ],
   "source": [
    "first"
   ]
  },
  {
   "cell_type": "code",
   "execution_count": 185,
   "id": "852a47e0",
   "metadata": {},
   "outputs": [
    {
     "data": {
      "text/plain": [
       "['ahmed', 20, '60']"
      ]
     },
     "execution_count": 185,
     "metadata": {},
     "output_type": "execute_result"
    }
   ],
   "source": [
    "sec"
   ]
  },
  {
   "cell_type": "code",
   "execution_count": 186,
   "id": "09712ea2",
   "metadata": {},
   "outputs": [
    {
     "data": {
      "text/plain": [
       "['10', 'ali', 'mazen', 'ahmed', 20, '60']"
      ]
     },
     "execution_count": 186,
     "metadata": {},
     "output_type": "execute_result"
    }
   ],
   "source": [
    "first + sec"
   ]
  },
  {
   "cell_type": "markdown",
   "id": "e5f67522",
   "metadata": {},
   "source": [
    "**List items can be changed using index and slice index**"
   ]
  },
  {
   "cell_type": "code",
   "execution_count": 187,
   "id": "84ffce97",
   "metadata": {},
   "outputs": [
    {
     "data": {
      "text/plain": [
       "['10', 'ali', 'mazen']"
      ]
     },
     "execution_count": 187,
     "metadata": {},
     "output_type": "execute_result"
    }
   ],
   "source": [
    "first"
   ]
  },
  {
   "cell_type": "code",
   "execution_count": 188,
   "id": "dfc2aabf",
   "metadata": {},
   "outputs": [],
   "source": [
    "first[0] = 20"
   ]
  },
  {
   "cell_type": "code",
   "execution_count": 189,
   "id": "bdaad365",
   "metadata": {},
   "outputs": [
    {
     "data": {
      "text/plain": [
       "[20, 'ali', 'mazen']"
      ]
     },
     "execution_count": 189,
     "metadata": {},
     "output_type": "execute_result"
    }
   ],
   "source": [
    "first"
   ]
  },
  {
   "cell_type": "code",
   "execution_count": 190,
   "id": "dfb6f551",
   "metadata": {},
   "outputs": [
    {
     "data": {
      "text/plain": [
       "['ahmed', 20, '60']"
      ]
     },
     "execution_count": 190,
     "metadata": {},
     "output_type": "execute_result"
    }
   ],
   "source": [
    "sec"
   ]
  },
  {
   "cell_type": "code",
   "execution_count": 191,
   "id": "ce520fe3",
   "metadata": {},
   "outputs": [],
   "source": [
    "sec[0:2] = [\"Ahmed\"]"
   ]
  },
  {
   "cell_type": "code",
   "execution_count": 192,
   "id": "53684dd7",
   "metadata": {},
   "outputs": [
    {
     "data": {
      "text/plain": [
       "['Ahmed', '60']"
      ]
     },
     "execution_count": 192,
     "metadata": {},
     "output_type": "execute_result"
    }
   ],
   "source": [
    "sec"
   ]
  },
  {
   "cell_type": "markdown",
   "id": "e3af67e5",
   "metadata": {},
   "source": [
    "### Extend List"
   ]
  },
  {
   "cell_type": "markdown",
   "id": "dcdb10ec",
   "metadata": {},
   "source": [
    "To append elements from another list to the current list, use \n",
    "the extend() method.\n"
   ]
  },
  {
   "cell_type": "code",
   "execution_count": 193,
   "id": "fe815060",
   "metadata": {},
   "outputs": [
    {
     "data": {
      "text/plain": [
       "['John', 102, 'USA']"
      ]
     },
     "execution_count": 193,
     "metadata": {},
     "output_type": "execute_result"
    }
   ],
   "source": [
    "l1"
   ]
  },
  {
   "cell_type": "code",
   "execution_count": 194,
   "id": "1160c99e",
   "metadata": {},
   "outputs": [
    {
     "data": {
      "text/plain": [
       "[1, 2, 3, 4, 5, 6]"
      ]
     },
     "execution_count": 194,
     "metadata": {},
     "output_type": "execute_result"
    }
   ],
   "source": [
    "l2"
   ]
  },
  {
   "cell_type": "code",
   "execution_count": 195,
   "id": "8f39bed9",
   "metadata": {},
   "outputs": [],
   "source": [
    "l1.extend(l2)"
   ]
  },
  {
   "cell_type": "code",
   "execution_count": 196,
   "id": "1b17f5a5",
   "metadata": {},
   "outputs": [
    {
     "data": {
      "text/plain": [
       "['John', 102, 'USA', 1, 2, 3, 4, 5, 6]"
      ]
     },
     "execution_count": 196,
     "metadata": {},
     "output_type": "execute_result"
    }
   ],
   "source": [
    "l1"
   ]
  },
  {
   "cell_type": "markdown",
   "id": "8f497fa1",
   "metadata": {},
   "source": [
    "### Remove Specified Item"
   ]
  },
  {
   "cell_type": "code",
   "execution_count": 197,
   "id": "8088d550",
   "metadata": {},
   "outputs": [
    {
     "data": {
      "text/plain": [
       "['John', 102, 'USA', 1, 2, 3, 4, 5, 6]"
      ]
     },
     "execution_count": 197,
     "metadata": {},
     "output_type": "execute_result"
    }
   ],
   "source": [
    "l1"
   ]
  },
  {
   "cell_type": "code",
   "execution_count": 198,
   "id": "053264b0",
   "metadata": {},
   "outputs": [],
   "source": [
    "l1.remove(\"USA\")"
   ]
  },
  {
   "cell_type": "code",
   "execution_count": 199,
   "id": "7498a88f",
   "metadata": {},
   "outputs": [
    {
     "data": {
      "text/plain": [
       "['John', 102, 1, 2, 3, 4, 5, 6]"
      ]
     },
     "execution_count": 199,
     "metadata": {},
     "output_type": "execute_result"
    }
   ],
   "source": [
    "l1"
   ]
  },
  {
   "cell_type": "code",
   "execution_count": 200,
   "id": "42adcf42",
   "metadata": {},
   "outputs": [],
   "source": [
    "l1.remove(1)"
   ]
  },
  {
   "cell_type": "code",
   "execution_count": 201,
   "id": "6c4e7de9",
   "metadata": {},
   "outputs": [
    {
     "data": {
      "text/plain": [
       "['John', 102, 2, 3, 4, 5, 6]"
      ]
     },
     "execution_count": 201,
     "metadata": {},
     "output_type": "execute_result"
    }
   ],
   "source": [
    "l1"
   ]
  },
  {
   "cell_type": "markdown",
   "id": "16bfaa5a",
   "metadata": {},
   "source": [
    "### Remove Specified Item "
   ]
  },
  {
   "cell_type": "code",
   "execution_count": 202,
   "id": "3d6ed763",
   "metadata": {},
   "outputs": [
    {
     "data": {
      "text/plain": [
       "[20, 'ali', 'mazen']"
      ]
     },
     "execution_count": 202,
     "metadata": {},
     "output_type": "execute_result"
    }
   ],
   "source": [
    "first"
   ]
  },
  {
   "cell_type": "code",
   "execution_count": 203,
   "id": "dedad1c5",
   "metadata": {
    "scrolled": true
   },
   "outputs": [
    {
     "data": {
      "text/plain": [
       "['Ahmed', '60']"
      ]
     },
     "execution_count": 203,
     "metadata": {},
     "output_type": "execute_result"
    }
   ],
   "source": [
    "sec"
   ]
  },
  {
   "cell_type": "code",
   "execution_count": 204,
   "id": "aa6fa7ac",
   "metadata": {},
   "outputs": [],
   "source": [
    "first.extend(sec)"
   ]
  },
  {
   "cell_type": "code",
   "execution_count": 206,
   "id": "08f5842f",
   "metadata": {},
   "outputs": [
    {
     "data": {
      "text/plain": [
       "[20, 'ali', 'mazen', 'Ahmed', '60']"
      ]
     },
     "execution_count": 206,
     "metadata": {},
     "output_type": "execute_result"
    }
   ],
   "source": [
    "first"
   ]
  },
  {
   "cell_type": "code",
   "execution_count": 207,
   "id": "43422d57",
   "metadata": {},
   "outputs": [
    {
     "data": {
      "text/plain": [
       "'mazen'"
      ]
     },
     "execution_count": 207,
     "metadata": {},
     "output_type": "execute_result"
    }
   ],
   "source": [
    "first.pop(2)"
   ]
  },
  {
   "cell_type": "code",
   "execution_count": 208,
   "id": "b51b41ee",
   "metadata": {
    "scrolled": true
   },
   "outputs": [
    {
     "data": {
      "text/plain": [
       "[20, 'ali', 'Ahmed', '60']"
      ]
     },
     "execution_count": 208,
     "metadata": {},
     "output_type": "execute_result"
    }
   ],
   "source": [
    "first"
   ]
  },
  {
   "cell_type": "code",
   "execution_count": 210,
   "id": "fd235089",
   "metadata": {
    "scrolled": true
   },
   "outputs": [
    {
     "data": {
      "text/plain": [
       "[20, 'ali', 'Ahmed']"
      ]
     },
     "execution_count": 210,
     "metadata": {},
     "output_type": "execute_result"
    }
   ],
   "source": [
    "first"
   ]
  },
  {
   "cell_type": "code",
   "execution_count": 209,
   "id": "2d864a74",
   "metadata": {},
   "outputs": [
    {
     "data": {
      "text/plain": [
       "'60'"
      ]
     },
     "execution_count": 209,
     "metadata": {},
     "output_type": "execute_result"
    }
   ],
   "source": [
    "first.pop()"
   ]
  },
  {
   "cell_type": "markdown",
   "id": "c6475f9a",
   "metadata": {},
   "source": [
    "**The del keyword also removes the specified index:**\n"
   ]
  },
  {
   "cell_type": "code",
   "execution_count": 211,
   "id": "321db7be",
   "metadata": {},
   "outputs": [
    {
     "data": {
      "text/plain": [
       "['John', 102, 2, 3, 4, 5, 6]"
      ]
     },
     "execution_count": 211,
     "metadata": {},
     "output_type": "execute_result"
    }
   ],
   "source": [
    "l1"
   ]
  },
  {
   "cell_type": "code",
   "execution_count": 212,
   "id": "8d2203ae",
   "metadata": {},
   "outputs": [],
   "source": [
    "del l1[1]"
   ]
  },
  {
   "cell_type": "code",
   "execution_count": 213,
   "id": "65989f04",
   "metadata": {},
   "outputs": [
    {
     "data": {
      "text/plain": [
       "['John', 2, 3, 4, 5, 6]"
      ]
     },
     "execution_count": 213,
     "metadata": {},
     "output_type": "execute_result"
    }
   ],
   "source": [
    "l1"
   ]
  },
  {
   "cell_type": "code",
   "execution_count": 214,
   "id": "201f6889",
   "metadata": {},
   "outputs": [],
   "source": [
    "del l1[0:2]"
   ]
  },
  {
   "cell_type": "code",
   "execution_count": 215,
   "id": "688b00b1",
   "metadata": {},
   "outputs": [
    {
     "data": {
      "text/plain": [
       "[3, 4, 5, 6]"
      ]
     },
     "execution_count": 215,
     "metadata": {},
     "output_type": "execute_result"
    }
   ],
   "source": [
    "l1"
   ]
  },
  {
   "cell_type": "markdown",
   "id": "52e8ef3a",
   "metadata": {},
   "source": [
    "### Clear the List"
   ]
  },
  {
   "cell_type": "code",
   "execution_count": 216,
   "id": "9b6a4f62",
   "metadata": {},
   "outputs": [],
   "source": [
    "thislist = [\"apple\", \"banana\", \"cherry\"]"
   ]
  },
  {
   "cell_type": "code",
   "execution_count": 218,
   "id": "fecf7cc3",
   "metadata": {},
   "outputs": [],
   "source": [
    "thislist.clear()"
   ]
  },
  {
   "cell_type": "code",
   "execution_count": 220,
   "id": "157703b4",
   "metadata": {},
   "outputs": [],
   "source": [
    "thislist.append(\"empty list\")"
   ]
  },
  {
   "cell_type": "code",
   "execution_count": 221,
   "id": "072ea3b1",
   "metadata": {},
   "outputs": [
    {
     "data": {
      "text/plain": [
       "['empty list']"
      ]
     },
     "execution_count": 221,
     "metadata": {},
     "output_type": "execute_result"
    }
   ],
   "source": [
    "thislist"
   ]
  },
  {
   "cell_type": "markdown",
   "id": "38bf38d5",
   "metadata": {},
   "source": [
    "### Sort List"
   ]
  },
  {
   "cell_type": "code",
   "execution_count": 222,
   "id": "cfcb4478",
   "metadata": {},
   "outputs": [],
   "source": [
    "un_sorted_list = [2,20,3,0,155,64,67,16,1,23,33,47,6,-20,-66,20,152,23,648]"
   ]
  },
  {
   "cell_type": "code",
   "execution_count": 223,
   "id": "7fbc04fc",
   "metadata": {},
   "outputs": [
    {
     "data": {
      "text/plain": [
       "[2, 20, 3, 0, 155, 64, 67, 16, 1, 23, 33, 47, 6, -20, -66, 20, 152, 23, 648]"
      ]
     },
     "execution_count": 223,
     "metadata": {},
     "output_type": "execute_result"
    }
   ],
   "source": [
    "un_sorted_list"
   ]
  },
  {
   "cell_type": "code",
   "execution_count": 224,
   "id": "d144a87b",
   "metadata": {},
   "outputs": [
    {
     "data": {
      "text/plain": [
       "[-66, -20, 0, 1, 2, 3, 6, 16, 20, 20, 23, 23, 33, 47, 64, 67, 152, 155, 648]"
      ]
     },
     "execution_count": 224,
     "metadata": {},
     "output_type": "execute_result"
    }
   ],
   "source": [
    "un_sorted_list.sort()\n",
    "un_sorted_list"
   ]
  },
  {
   "cell_type": "code",
   "execution_count": 226,
   "id": "9bfb442d",
   "metadata": {},
   "outputs": [
    {
     "data": {
      "text/plain": [
       "[648, 155, 152, 67, 64, 47, 33, 23, 23, 20, 20, 16, 6, 3, 2, 1, 0, -20, -66]"
      ]
     },
     "execution_count": 226,
     "metadata": {},
     "output_type": "execute_result"
    }
   ],
   "source": [
    "un_sorted_list.sort(reverse=True)\n",
    "un_sorted_list"
   ]
  },
  {
   "cell_type": "code",
   "execution_count": null,
   "id": "33efffba",
   "metadata": {},
   "outputs": [],
   "source": []
  },
  {
   "cell_type": "code",
   "execution_count": null,
   "id": "8cb5ae68",
   "metadata": {},
   "outputs": [],
   "source": []
  },
  {
   "cell_type": "markdown",
   "id": "aa937188",
   "metadata": {},
   "source": [
    "### Reverse Order"
   ]
  },
  {
   "cell_type": "code",
   "execution_count": 227,
   "id": "de3d4860",
   "metadata": {},
   "outputs": [],
   "source": [
    "thislist = [\"apple\", \"banana\", \"cherry\"]"
   ]
  },
  {
   "cell_type": "code",
   "execution_count": 228,
   "id": "ca26c490",
   "metadata": {},
   "outputs": [],
   "source": [
    "thislist.reverse()"
   ]
  },
  {
   "cell_type": "code",
   "execution_count": 229,
   "id": "064c0192",
   "metadata": {},
   "outputs": [
    {
     "data": {
      "text/plain": [
       "['cherry', 'banana', 'apple']"
      ]
     },
     "execution_count": 229,
     "metadata": {},
     "output_type": "execute_result"
    }
   ],
   "source": [
    "thislist"
   ]
  },
  {
   "cell_type": "markdown",
   "id": "ec29bf82",
   "metadata": {},
   "source": [
    "### Copy a List"
   ]
  },
  {
   "cell_type": "code",
   "execution_count": 230,
   "id": "1958d70c",
   "metadata": {},
   "outputs": [],
   "source": [
    "list_1 = [10,20,30, 50]\n",
    "list_2 = [25,23,55]"
   ]
  },
  {
   "cell_type": "code",
   "execution_count": 86,
   "id": "8f677651",
   "metadata": {},
   "outputs": [
    {
     "data": {
      "text/plain": [
       "[10, 20, 30, 50]"
      ]
     },
     "execution_count": 86,
     "metadata": {},
     "output_type": "execute_result"
    }
   ],
   "source": [
    "list_1"
   ]
  },
  {
   "cell_type": "code",
   "execution_count": 87,
   "id": "5fb21cb5",
   "metadata": {},
   "outputs": [
    {
     "data": {
      "text/plain": [
       "[25, 23, 55]"
      ]
     },
     "execution_count": 87,
     "metadata": {},
     "output_type": "execute_result"
    }
   ],
   "source": [
    "list_2"
   ]
  },
  {
   "cell_type": "code",
   "execution_count": 88,
   "id": "d84634da",
   "metadata": {},
   "outputs": [],
   "source": [
    "list_3 = list_1"
   ]
  },
  {
   "cell_type": "code",
   "execution_count": 89,
   "id": "6c73ceed",
   "metadata": {},
   "outputs": [
    {
     "data": {
      "text/plain": [
       "[10, 20, 30, 50]"
      ]
     },
     "execution_count": 89,
     "metadata": {},
     "output_type": "execute_result"
    }
   ],
   "source": [
    "list_3"
   ]
  },
  {
   "cell_type": "code",
   "execution_count": 90,
   "id": "438bb5b0",
   "metadata": {},
   "outputs": [],
   "source": [
    "list_3 = list_1.copy()"
   ]
  },
  {
   "cell_type": "code",
   "execution_count": 91,
   "id": "77d83183",
   "metadata": {},
   "outputs": [
    {
     "data": {
      "text/plain": [
       "[10, 20, 30, 50]"
      ]
     },
     "execution_count": 91,
     "metadata": {},
     "output_type": "execute_result"
    }
   ],
   "source": [
    "list_3"
   ]
  },
  {
   "cell_type": "code",
   "execution_count": null,
   "id": "828da97f",
   "metadata": {},
   "outputs": [],
   "source": []
  },
  {
   "cell_type": "markdown",
   "id": "0d565484",
   "metadata": {},
   "source": [
    "## Join Two Lists\n"
   ]
  },
  {
   "cell_type": "markdown",
   "id": "ed409e63",
   "metadata": {},
   "source": [
    "Or you can use the extend() method, which purpose is to add \n",
    "elements from one list to another list:\n"
   ]
  },
  {
   "cell_type": "code",
   "execution_count": 92,
   "id": "ecc7c65f",
   "metadata": {},
   "outputs": [
    {
     "data": {
      "text/plain": [
       "[25, 23, 55]"
      ]
     },
     "execution_count": 92,
     "metadata": {},
     "output_type": "execute_result"
    }
   ],
   "source": [
    "list_2"
   ]
  },
  {
   "cell_type": "code",
   "execution_count": 93,
   "id": "9e6b5d37",
   "metadata": {},
   "outputs": [
    {
     "data": {
      "text/plain": [
       "[10, 20, 30, 50]"
      ]
     },
     "execution_count": 93,
     "metadata": {},
     "output_type": "execute_result"
    }
   ],
   "source": [
    "list_1"
   ]
  },
  {
   "cell_type": "code",
   "execution_count": 94,
   "id": "8cf66fd8",
   "metadata": {},
   "outputs": [
    {
     "data": {
      "text/plain": [
       "[10, 20, 30, 50, 25, 23, 55]"
      ]
     },
     "execution_count": 94,
     "metadata": {},
     "output_type": "execute_result"
    }
   ],
   "source": [
    "list_1.extend(list_2)\n",
    "list_1"
   ]
  },
  {
   "cell_type": "code",
   "execution_count": null,
   "id": "ec2cee32",
   "metadata": {},
   "outputs": [],
   "source": []
  },
  {
   "cell_type": "code",
   "execution_count": null,
   "id": "45ac2bb7",
   "metadata": {},
   "outputs": [],
   "source": []
  },
  {
   "cell_type": "code",
   "execution_count": 95,
   "id": "340f7e42",
   "metadata": {},
   "outputs": [
    {
     "data": {
      "text/plain": [
       "[3, 4, 5, 6]"
      ]
     },
     "execution_count": 95,
     "metadata": {},
     "output_type": "execute_result"
    }
   ],
   "source": [
    "l1"
   ]
  },
  {
   "cell_type": "code",
   "execution_count": 96,
   "id": "61ee9711",
   "metadata": {},
   "outputs": [
    {
     "data": {
      "text/plain": [
       "[1, 2, 3, 4, 5, 6]"
      ]
     },
     "execution_count": 96,
     "metadata": {},
     "output_type": "execute_result"
    }
   ],
   "source": [
    "l2"
   ]
  },
  {
   "cell_type": "code",
   "execution_count": 97,
   "id": "b1ebb2fc",
   "metadata": {},
   "outputs": [
    {
     "data": {
      "text/plain": [
       "[3, 4, 5, 6, 1, 2, 3, 4, 5, 6]"
      ]
     },
     "execution_count": 97,
     "metadata": {},
     "output_type": "execute_result"
    }
   ],
   "source": [
    "l1+l2"
   ]
  },
  {
   "cell_type": "markdown",
   "id": "c2e9fbe1",
   "metadata": {},
   "source": [
    "\n",
    "## Exercise: Python Lists\n",
    "1. Let us say your expense for every month are listed below,\n",
    "\t1. January -  2200\n",
    "    2. February - 2350\n",
    "    3. March - 2600\n",
    "    4. April - 2130\n",
    "    5. May - 2190\n",
    "- Create a list to store these monthly expenses and using that find out\n",
    "  1. In Feb, how many dollars you spent extra compare to January?\n",
    "  2. Find out your total expense in first quarter (first three months) of the year.\n",
    "  3. Find out if you spent exactly 2000 dollars in any month"
   ]
  },
  {
   "cell_type": "markdown",
   "id": "0d8877f0",
   "metadata": {},
   "source": [
    "- 2 - You have a list of your favourite names."
   ]
  },
  {
   "cell_type": "code",
   "execution_count": null,
   "id": "7c710d0f",
   "metadata": {},
   "outputs": [],
   "source": []
  }
 ],
 "metadata": {
  "kernelspec": {
   "display_name": "Python 3 (ipykernel)",
   "language": "python",
   "name": "python3"
  },
  "language_info": {
   "codemirror_mode": {
    "name": "ipython",
    "version": 3
   },
   "file_extension": ".py",
   "mimetype": "text/x-python",
   "name": "python",
   "nbconvert_exporter": "python",
   "pygments_lexer": "ipython3",
   "version": "3.9.12"
  }
 },
 "nbformat": 4,
 "nbformat_minor": 5
}
