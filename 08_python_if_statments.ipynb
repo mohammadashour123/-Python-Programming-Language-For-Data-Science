{
 "cells": [
  {
   "cell_type": "code",
   "execution_count": 21,
   "id": "a78db81c",
   "metadata": {},
   "outputs": [
    {
     "name": "stdout",
     "output_type": "stream",
     "text": [
      "Enter a number15\n"
     ]
    }
   ],
   "source": [
    "n=input(\"Enter a number\")\n",
    "n=int(n)"
   ]
  },
  {
   "cell_type": "code",
   "execution_count": 9,
   "id": "2dd3981b",
   "metadata": {},
   "outputs": [
    {
     "name": "stdout",
     "output_type": "stream",
     "text": [
      "20\n"
     ]
    }
   ],
   "source": [
    "print(n)"
   ]
  },
  {
   "cell_type": "code",
   "execution_count": 10,
   "id": "d6293cd8",
   "metadata": {},
   "outputs": [
    {
     "name": "stdout",
     "output_type": "stream",
     "text": [
      "<class 'int'>\n"
     ]
    }
   ],
   "source": [
    "print(type(n))"
   ]
  },
  {
   "attachments": {
    "if-statement-in-python.png": {
     "image/png": "[encoded data removed]"
    }
   },
   "cell_type": "markdown",
   "id": "84c675ec",
   "metadata": {},
   "source": [
    "![if-statement-in-python.png](attachment:if-statement-in-python.png)"
   ]
  },
  {
   "attachments": {
    "Python-If-Elif-Else-Statement-Flowchart.webp": {
     "image/webp": "[encoded data removed]"
    }
   },
   "cell_type": "markdown",
   "id": "cb4619ad",
   "metadata": {},
   "source": [
    "![Python-If-Elif-Else-Statement-Flowchart.webp](attachment:Python-If-Elif-Else-Statement-Flowchart.webp)"
   ]
  },
  {
   "cell_type": "code",
   "execution_count": 17,
   "id": "dc6ee07a",
   "metadata": {},
   "outputs": [
    {
     "name": "stdout",
     "output_type": "stream",
     "text": [
      "bad\n"
     ]
    }
   ],
   "source": [
    "rate = 1 \n",
    "if rate > 5 : # false \n",
    "    print( \"good\")\n",
    "else : \n",
    "    print(\"bad\")"
   ]
  },
  {
   "cell_type": "code",
   "execution_count": 19,
   "id": "d665d1c4",
   "metadata": {},
   "outputs": [
    {
     "data": {
      "text/plain": [
       "True"
      ]
     },
     "execution_count": 19,
     "metadata": {},
     "output_type": "execute_result"
    }
   ],
   "source": [
    "5 == 5 "
   ]
  },
  {
   "cell_type": "code",
   "execution_count": 22,
   "id": "c7b1dcd5",
   "metadata": {},
   "outputs": [
    {
     "name": "stdout",
     "output_type": "stream",
     "text": [
      "Number is odd\n"
     ]
    }
   ],
   "source": [
    "if n%2==0:\n",
    "    print(\"Number is even\")\n",
    "else:\n",
    "    print(\"Number is odd\")"
   ]
  },
  {
   "cell_type": "code",
   "execution_count": 25,
   "id": "8f9f6153",
   "metadata": {},
   "outputs": [
    {
     "name": "stdout",
     "output_type": "stream",
     "text": [
      "enter numebr ! 10\n"
     ]
    }
   ],
   "source": [
    "user_input = int(input(\"enter numebr ! \"))"
   ]
  },
  {
   "cell_type": "code",
   "execution_count": 26,
   "id": "f32aded6",
   "metadata": {},
   "outputs": [
    {
     "name": "stdout",
     "output_type": "stream",
     "text": [
      "numebr is *smaller* than 20 \n"
     ]
    }
   ],
   "source": [
    "if  user_input > 20 : \n",
    "    print(\"numebr is *greater* than 20 \" )\n",
    "else: \n",
    "    print(\"numebr is *smaller* than 20 \" )"
   ]
  },
  {
   "cell_type": "code",
   "execution_count": 2,
   "id": "379f45e1",
   "metadata": {},
   "outputs": [],
   "source": [
    "# If is called control statement as it controls the flow of code execution\n",
    "# ==\n",
    "# !=\n",
    "# >\n",
    "# <\n",
    "# >=\n",
    "# <=\n",
    "#\n",
    "# 3>2 and 4>1\n",
    "# 3>1 or 4>8\n",
    "# not 4==4\n"
   ]
  },
  {
   "cell_type": "code",
   "execution_count": 29,
   "id": "b2708692",
   "metadata": {},
   "outputs": [
    {
     "data": {
      "text/plain": [
       "False"
      ]
     },
     "execution_count": 29,
     "metadata": {},
     "output_type": "execute_result"
    }
   ],
   "source": [
    "15 == 220 "
   ]
  },
  {
   "cell_type": "code",
   "execution_count": 30,
   "id": "895af5e2",
   "metadata": {},
   "outputs": [
    {
     "data": {
      "text/plain": [
       "False"
      ]
     },
     "execution_count": 30,
     "metadata": {},
     "output_type": "execute_result"
    }
   ],
   "source": [
    "20 > 21 "
   ]
  },
  {
   "cell_type": "code",
   "execution_count": null,
   "id": "28af29e7",
   "metadata": {},
   "outputs": [],
   "source": []
  },
  {
   "cell_type": "code",
   "execution_count": 31,
   "id": "b7ce2265",
   "metadata": {},
   "outputs": [
    {
     "data": {
      "text/plain": [
       "True"
      ]
     },
     "execution_count": 31,
     "metadata": {},
     "output_type": "execute_result"
    }
   ],
   "source": [
    "20 != 22 \n"
   ]
  },
  {
   "cell_type": "code",
   "execution_count": 32,
   "id": "38bcf101",
   "metadata": {},
   "outputs": [
    {
     "data": {
      "text/plain": [
       "False"
      ]
     },
     "execution_count": 32,
     "metadata": {},
     "output_type": "execute_result"
    }
   ],
   "source": [
    "20 > 22 and 20 < 100 "
   ]
  },
  {
   "cell_type": "code",
   "execution_count": 33,
   "id": "8ac682f3",
   "metadata": {},
   "outputs": [
    {
     "data": {
      "text/plain": [
       "True"
      ]
     },
     "execution_count": 33,
     "metadata": {},
     "output_type": "execute_result"
    }
   ],
   "source": [
    "20 > 22 or 20 < 100 "
   ]
  },
  {
   "cell_type": "code",
   "execution_count": 35,
   "id": "d70ffd81",
   "metadata": {},
   "outputs": [
    {
     "data": {
      "text/plain": [
       "False"
      ]
     },
     "execution_count": 35,
     "metadata": {},
     "output_type": "execute_result"
    }
   ],
   "source": [
    "not 4 == 4 "
   ]
  },
  {
   "cell_type": "code",
   "execution_count": 36,
   "id": "26c925d2",
   "metadata": {},
   "outputs": [],
   "source": [
    "# Cousine checker. Explains if..elif..else\n",
    "indian=[\"samosa\",\"kachori\",\"dal\",\"naan\"]\n",
    "pakistani=[\"nihari\",\"paya\",\"karahi\"]\n",
    "bangladesi=[\"panta bhat\",\"chorchori\",\"fuchka\"]"
   ]
  },
  {
   "cell_type": "code",
   "execution_count": 37,
   "id": "0b7515ea",
   "metadata": {},
   "outputs": [
    {
     "name": "stdout",
     "output_type": "stream",
     "text": [
      "Enter a dish name:dal\n"
     ]
    }
   ],
   "source": [
    "dish=input(\"Enter a dish name:\")"
   ]
  },
  {
   "cell_type": "code",
   "execution_count": 38,
   "id": "38d93099",
   "metadata": {},
   "outputs": [
    {
     "name": "stdout",
     "output_type": "stream",
     "text": [
      "dal is Indian\n"
     ]
    }
   ],
   "source": [
    "if dish in indian:\n",
    "    print(f\"{dish} is Indian\")\n",
    "elif dish in pakistani:\n",
    "    print(f\"{dish} is pakistani\")\n",
    "elif dish in bangladesi:\n",
    "    print(f\"{dish} is bangladesi\")\n",
    "else:\n",
    "    print(f\"Based on my limited knowledge, I don't know which cuisine is {dish}\")"
   ]
  },
  {
   "cell_type": "code",
   "execution_count": null,
   "id": "c45e5d43",
   "metadata": {},
   "outputs": [],
   "source": [
    "# Ternary operator\n",
    "print(\"Ternary operator demo\")\n",
    "n=input(\"Enter a number:\")\n",
    "n=int(n)"
   ]
  },
  {
   "cell_type": "code",
   "execution_count": null,
   "id": "b7a465a4",
   "metadata": {},
   "outputs": [],
   "source": []
  },
  {
   "cell_type": "code",
   "execution_count": null,
   "id": "3c875a59",
   "metadata": {},
   "outputs": [],
   "source": [
    "message=\"Number is even\" if n%2==0 else \"Number is odd\"\n",
    "print(message)"
   ]
  },
  {
   "cell_type": "code",
   "execution_count": null,
   "id": "ff5a0355",
   "metadata": {},
   "outputs": [],
   "source": []
  }
 ],
 "metadata": {
  "kernelspec": {
   "display_name": "Python 3 (ipykernel)",
   "language": "python",
   "name": "python3"
  },
  "language_info": {
   "codemirror_mode": {
    "name": "ipython",
    "version": 3
   },
   "file_extension": ".py",
   "mimetype": "text/x-python",
   "name": "python",
   "nbconvert_exporter": "python",
   "pygments_lexer": "ipython3",
   "version": "3.9.12"
  }
 },
 "nbformat": 4,
 "nbformat_minor": 5
}
