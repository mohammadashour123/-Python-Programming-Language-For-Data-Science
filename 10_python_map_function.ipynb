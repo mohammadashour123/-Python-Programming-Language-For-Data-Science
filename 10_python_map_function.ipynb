{
 "cells": [
  {
   "cell_type": "code",
   "execution_count": 1,
   "id": "f6687e33",
   "metadata": {},
   "outputs": [],
   "source": [
    "def even_odd(num) : \n",
    "    if num%2 == 0 :\n",
    "        return \"the number is even\".format(num)\n",
    "    else : \n",
    "        return \"the number is odd\".format(num)\n",
    "        "
   ]
  },
  {
   "cell_type": "code",
   "execution_count": 5,
   "id": "7922d424",
   "metadata": {},
   "outputs": [
    {
     "data": {
      "text/plain": [
       "'the number is odd'"
      ]
     },
     "execution_count": 5,
     "metadata": {},
     "output_type": "execute_result"
    }
   ],
   "source": [
    "even_odd(11)"
   ]
  },
  {
   "cell_type": "code",
   "execution_count": 3,
   "id": "3d965f5d",
   "metadata": {},
   "outputs": [
    {
     "data": {
      "text/plain": [
       "'the number is odd'"
      ]
     },
     "execution_count": 3,
     "metadata": {},
     "output_type": "execute_result"
    }
   ],
   "source": [
    "even_odd(15)"
   ]
  },
  {
   "cell_type": "code",
   "execution_count": 6,
   "id": "7e60380e",
   "metadata": {},
   "outputs": [],
   "source": [
    "my_list_of_numbers = [1,2,3,5,4,88,12,65,0,45,9,75,78,64,2,15,17,91]"
   ]
  },
  {
   "cell_type": "code",
   "execution_count": 7,
   "id": "44403fc3",
   "metadata": {
    "scrolled": true
   },
   "outputs": [
    {
     "name": "stdout",
     "output_type": "stream",
     "text": [
      "[1, 2, 3, 5, 4, 88, 12, 65, 0, 45, 9, 75, 78, 64, 2, 15, 17, 91]\n"
     ]
    }
   ],
   "source": [
    "print(my_list_of_numbers)"
   ]
  },
  {
   "cell_type": "code",
   "execution_count": 9,
   "id": "93e53ae9",
   "metadata": {},
   "outputs": [
    {
     "data": {
      "text/plain": [
       "['the number is odd',\n",
       " 'the number is even',\n",
       " 'the number is odd',\n",
       " 'the number is odd',\n",
       " 'the number is even',\n",
       " 'the number is even',\n",
       " 'the number is even',\n",
       " 'the number is odd',\n",
       " 'the number is even',\n",
       " 'the number is odd',\n",
       " 'the number is odd',\n",
       " 'the number is odd',\n",
       " 'the number is even',\n",
       " 'the number is even',\n",
       " 'the number is even',\n",
       " 'the number is odd',\n",
       " 'the number is odd',\n",
       " 'the number is odd']"
      ]
     },
     "execution_count": 9,
     "metadata": {},
     "output_type": "execute_result"
    }
   ],
   "source": [
    "list(map(even_odd , my_list_of_numbers))"
   ]
  },
  {
   "cell_type": "code",
   "execution_count": null,
   "id": "e957a7a7",
   "metadata": {},
   "outputs": [],
   "source": []
  },
  {
   "cell_type": "code",
   "execution_count": null,
   "id": "e7610766",
   "metadata": {},
   "outputs": [],
   "source": []
  },
  {
   "cell_type": "code",
   "execution_count": null,
   "id": "367116ad",
   "metadata": {},
   "outputs": [],
   "source": []
  },
  {
   "cell_type": "code",
   "execution_count": 13,
   "id": "29603bbd",
   "metadata": {},
   "outputs": [
    {
     "data": {
      "text/plain": [
       "('the number is odd',\n",
       " 'the number is even',\n",
       " 'the number is odd',\n",
       " 'the number is odd',\n",
       " 'the number is even',\n",
       " 'the number is even',\n",
       " 'the number is even',\n",
       " 'the number is odd',\n",
       " 'the number is even',\n",
       " 'the number is odd',\n",
       " 'the number is odd',\n",
       " 'the number is odd',\n",
       " 'the number is even',\n",
       " 'the number is even',\n",
       " 'the number is even',\n",
       " 'the number is odd',\n",
       " 'the number is odd',\n",
       " 'the number is odd')"
      ]
     },
     "execution_count": 13,
     "metadata": {},
     "output_type": "execute_result"
    }
   ],
   "source": [
    "tuple(map(even_odd , my_list_of_numbers))"
   ]
  },
  {
   "cell_type": "code",
   "execution_count": null,
   "id": "be102592",
   "metadata": {},
   "outputs": [],
   "source": []
  },
  {
   "cell_type": "code",
   "execution_count": null,
   "id": "9e75f77d",
   "metadata": {},
   "outputs": [],
   "source": []
  },
  {
   "cell_type": "code",
   "execution_count": null,
   "id": "3f7e5e3c",
   "metadata": {},
   "outputs": [],
   "source": []
  },
  {
   "cell_type": "code",
   "execution_count": 10,
   "id": "39736106",
   "metadata": {},
   "outputs": [],
   "source": [
    "def male_or_female(n) : \n",
    "    if n == 1 :\n",
    "        return \"Male\"\n",
    "    else : \n",
    "        return \"Female\"\n",
    "        "
   ]
  },
  {
   "cell_type": "code",
   "execution_count": 12,
   "id": "4a9a8f5d",
   "metadata": {},
   "outputs": [
    {
     "data": {
      "text/plain": [
       "'Male'"
      ]
     },
     "execution_count": 12,
     "metadata": {},
     "output_type": "execute_result"
    }
   ],
   "source": [
    "male_or_female(1)"
   ]
  },
  {
   "cell_type": "code",
   "execution_count": 13,
   "id": "7b078d9e",
   "metadata": {},
   "outputs": [],
   "source": [
    "my_list_of_gender = [1,1,1,0,0,0,1,1,0,1,0,1,1,0,0]"
   ]
  },
  {
   "cell_type": "code",
   "execution_count": 15,
   "id": "80fbfb9b",
   "metadata": {},
   "outputs": [
    {
     "data": {
      "text/plain": [
       "['Male',\n",
       " 'Male',\n",
       " 'Male',\n",
       " 'Female',\n",
       " 'Female',\n",
       " 'Female',\n",
       " 'Male',\n",
       " 'Male',\n",
       " 'Female',\n",
       " 'Male',\n",
       " 'Female',\n",
       " 'Male',\n",
       " 'Male',\n",
       " 'Female',\n",
       " 'Female']"
      ]
     },
     "execution_count": 15,
     "metadata": {},
     "output_type": "execute_result"
    }
   ],
   "source": [
    "list(map(male_or_female , my_list_of_gender))"
   ]
  },
  {
   "cell_type": "code",
   "execution_count": 16,
   "id": "58205975",
   "metadata": {},
   "outputs": [
    {
     "data": {
      "text/plain": [
       "['Male',\n",
       " 'Male',\n",
       " 'Male',\n",
       " 'Female',\n",
       " 'Female',\n",
       " 'Female',\n",
       " 'Male',\n",
       " 'Male',\n",
       " 'Female',\n",
       " 'Male',\n",
       " 'Female',\n",
       " 'Male',\n",
       " 'Male',\n",
       " 'Female',\n",
       " 'Female']"
      ]
     },
     "execution_count": 16,
     "metadata": {},
     "output_type": "execute_result"
    }
   ],
   "source": [
    "list(map(male_or_female , my_list_of_gender))"
   ]
  },
  {
   "cell_type": "code",
   "execution_count": null,
   "id": "a495dbef",
   "metadata": {},
   "outputs": [],
   "source": []
  }
 ],
 "metadata": {
  "kernelspec": {
   "display_name": "Python 3 (ipykernel)",
   "language": "python",
   "name": "python3"
  },
  "language_info": {
   "codemirror_mode": {
    "name": "ipython",
    "version": 3
   },
   "file_extension": ".py",
   "mimetype": "text/x-python",
   "name": "python",
   "nbconvert_exporter": "python",
   "pygments_lexer": "ipython3",
   "version": "3.9.12"
  }
 },
 "nbformat": 4,
 "nbformat_minor": 5
}
