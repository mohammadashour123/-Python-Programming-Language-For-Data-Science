{
 "cells": [
  {
   "cell_type": "code",
   "execution_count": 1,
   "id": "532d1b07",
   "metadata": {},
   "outputs": [],
   "source": [
    "def add(a,b):\n",
    "    return a + b "
   ]
  },
  {
   "cell_type": "code",
   "execution_count": 2,
   "id": "72aafe67",
   "metadata": {},
   "outputs": [
    {
     "data": {
      "text/plain": [
       "30"
      ]
     },
     "execution_count": 2,
     "metadata": {},
     "output_type": "execute_result"
    }
   ],
   "source": [
    "add(10,20)"
   ]
  },
  {
   "cell_type": "code",
   "execution_count": 5,
   "id": "5f057962",
   "metadata": {},
   "outputs": [],
   "source": [
    "add_2 = lambda a,b : a+b "
   ]
  },
  {
   "cell_type": "code",
   "execution_count": 6,
   "id": "aa8beda0",
   "metadata": {},
   "outputs": [
    {
     "data": {
      "text/plain": [
       "30"
      ]
     },
     "execution_count": 6,
     "metadata": {},
     "output_type": "execute_result"
    }
   ],
   "source": [
    "add_2(10,20)"
   ]
  },
  {
   "cell_type": "code",
   "execution_count": 7,
   "id": "29967bf7",
   "metadata": {},
   "outputs": [],
   "source": [
    "def even_odd(num) : \n",
    "    if num%2 == 0 :\n",
    "        return \"the number is even\".format(num)\n",
    "    else : \n",
    "        return \"the number is odd\".format(num)\n",
    "        "
   ]
  },
  {
   "cell_type": "code",
   "execution_count": 8,
   "id": "07296ec6",
   "metadata": {},
   "outputs": [
    {
     "data": {
      "text/plain": [
       "'the number is odd'"
      ]
     },
     "execution_count": 8,
     "metadata": {},
     "output_type": "execute_result"
    }
   ],
   "source": [
    "even_odd(5)"
   ]
  },
  {
   "cell_type": "code",
   "execution_count": 10,
   "id": "0d59c414",
   "metadata": {},
   "outputs": [],
   "source": [
    "lambda_num = lambda num : \"even\" if num %2 == 0 else \"odd\""
   ]
  },
  {
   "cell_type": "code",
   "execution_count": 11,
   "id": "74808787",
   "metadata": {},
   "outputs": [
    {
     "data": {
      "text/plain": [
       "'odd'"
      ]
     },
     "execution_count": 11,
     "metadata": {},
     "output_type": "execute_result"
    }
   ],
   "source": [
    "lambda_num(5)"
   ]
  },
  {
   "cell_type": "code",
   "execution_count": 12,
   "id": "642989f1",
   "metadata": {},
   "outputs": [
    {
     "data": {
      "text/plain": [
       "'even'"
      ]
     },
     "execution_count": 12,
     "metadata": {},
     "output_type": "execute_result"
    }
   ],
   "source": [
    "lambda_num(50)"
   ]
  },
  {
   "cell_type": "code",
   "execution_count": 15,
   "id": "4f0b672c",
   "metadata": {},
   "outputs": [],
   "source": [
    "def add_3(n1,n2,n3):\n",
    "    return n1+n2+n3 "
   ]
  },
  {
   "cell_type": "code",
   "execution_count": 16,
   "id": "29d0822f",
   "metadata": {},
   "outputs": [
    {
     "data": {
      "text/plain": [
       "80"
      ]
     },
     "execution_count": 16,
     "metadata": {},
     "output_type": "execute_result"
    }
   ],
   "source": [
    "add_3(10,20,50)"
   ]
  },
  {
   "cell_type": "code",
   "execution_count": 17,
   "id": "ccbc2c40",
   "metadata": {},
   "outputs": [],
   "source": [
    "add_3_lambda = lambda n1,n2,n3 :n1+n2+n3 "
   ]
  },
  {
   "cell_type": "code",
   "execution_count": 18,
   "id": "76f718e9",
   "metadata": {},
   "outputs": [
    {
     "data": {
      "text/plain": [
       "41"
      ]
     },
     "execution_count": 18,
     "metadata": {},
     "output_type": "execute_result"
    }
   ],
   "source": [
    "add_3_lambda(22,10,9)"
   ]
  },
  {
   "cell_type": "code",
   "execution_count": null,
   "id": "34cd8abb",
   "metadata": {},
   "outputs": [],
   "source": []
  }
 ],
 "metadata": {
  "kernelspec": {
   "display_name": "Python 3 (ipykernel)",
   "language": "python",
   "name": "python3"
  },
  "language_info": {
   "codemirror_mode": {
    "name": "ipython",
    "version": 3
   },
   "file_extension": ".py",
   "mimetype": "text/x-python",
   "name": "python",
   "nbconvert_exporter": "python",
   "pygments_lexer": "ipython3",
   "version": "3.9.12"
  }
 },
 "nbformat": 4,
 "nbformat_minor": 5
}
