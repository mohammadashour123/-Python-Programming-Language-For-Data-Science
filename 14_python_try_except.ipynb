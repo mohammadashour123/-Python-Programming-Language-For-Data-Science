{
 "cells": [
  {
   "cell_type": "code",
   "execution_count": 5,
   "id": "765d0d64",
   "metadata": {},
   "outputs": [
    {
     "name": "stdout",
     "output_type": "stream",
     "text": [
      "enter numbermohammad\n"
     ]
    },
    {
     "ename": "ValueError",
     "evalue": "invalid literal for int() with base 10: 'mohammad'",
     "output_type": "error",
     "traceback": [
      "\u001b[1;31m---------------------------------------------------------------------------\u001b[0m",
      "\u001b[1;31mValueError\u001b[0m                                Traceback (most recent call last)",
      "Input \u001b[1;32mIn [5]\u001b[0m, in \u001b[0;36m<cell line: 1>\u001b[1;34m()\u001b[0m\n\u001b[1;32m----> 1\u001b[0m num \u001b[38;5;241m=\u001b[39m \u001b[38;5;28;43mint\u001b[39;49m\u001b[43m(\u001b[49m\u001b[38;5;28;43minput\u001b[39;49m\u001b[43m(\u001b[49m\u001b[38;5;124;43m\"\u001b[39;49m\u001b[38;5;124;43menter number\u001b[39;49m\u001b[38;5;124;43m\"\u001b[39;49m\u001b[43m)\u001b[49m\u001b[43m)\u001b[49m\n\u001b[0;32m      2\u001b[0m \u001b[38;5;28mprint\u001b[39m(num)\n\u001b[0;32m      3\u001b[0m \u001b[38;5;28mprint\u001b[39m(\u001b[38;5;124m\"\u001b[39m\u001b[38;5;124mfinish\u001b[39m\u001b[38;5;124m\"\u001b[39m)\n",
      "\u001b[1;31mValueError\u001b[0m: invalid literal for int() with base 10: 'mohammad'"
     ]
    }
   ],
   "source": [
    "num = int(input(\"enter number\"))\n",
    "print(num)\n",
    "print(\"finish\")"
   ]
  },
  {
   "cell_type": "code",
   "execution_count": 6,
   "id": "af59fcaa",
   "metadata": {},
   "outputs": [
    {
     "name": "stdout",
     "output_type": "stream",
     "text": [
      "enter number3\n",
      "3\n",
      "End Program\n"
     ]
    }
   ],
   "source": [
    "try: \n",
    "    num = int(input(\"enter number\"))\n",
    "    print(num)\n",
    "except : \n",
    "    print(\"invalid values\")\n",
    "    \n",
    "print(\"End Program\")"
   ]
  },
  {
   "cell_type": "code",
   "execution_count": null,
   "id": "5bcd9c05",
   "metadata": {},
   "outputs": [],
   "source": [
    "try: \n",
    "    num = int(input(\"enter number\"))\n",
    "    print(num)\n",
    "except ZeroDivisionError :  \n",
    "    print(\"division error\")\n",
    "except ValueError: \n",
    "    print(\"valid type of input\")\n",
    "except : \n",
    "    print(\"invalid values\")\n",
    "    \n",
    "print(\"End Program\")"
   ]
  },
  {
   "cell_type": "code",
   "execution_count": 9,
   "id": "370d6816",
   "metadata": {},
   "outputs": [
    {
     "name": "stdout",
     "output_type": "stream",
     "text": [
      "enter numberييي\n",
      "invalid literal for int() with base 10: 'ييي'\n",
      "print from finally whatever errors happend\n",
      "End Program\n"
     ]
    }
   ],
   "source": [
    "try: \n",
    "    num = int(input(\"enter number\"))\n",
    "    print(num)\n",
    "except ZeroDivisionError as zero_error :  \n",
    "    print(zero_error)\n",
    "except ValueError as value_error: \n",
    "    print(value_error)\n",
    "except : \n",
    "    print(\"invalid values\")\n",
    "finally : \n",
    "    print(\"print from finally whatever errors happend\")\n",
    "    \n",
    "print(\"End Program\")"
   ]
  },
  {
   "cell_type": "code",
   "execution_count": null,
   "id": "7cdc9469",
   "metadata": {},
   "outputs": [],
   "source": []
  }
 ],
 "metadata": {
  "kernelspec": {
   "display_name": "Python 3 (ipykernel)",
   "language": "python",
   "name": "python3"
  },
  "language_info": {
   "codemirror_mode": {
    "name": "ipython",
    "version": 3
   },
   "file_extension": ".py",
   "mimetype": "text/x-python",
   "name": "python",
   "nbconvert_exporter": "python",
   "pygments_lexer": "ipython3",
   "version": "3.9.12"
  }
 },
 "nbformat": 4,
 "nbformat_minor": 5
}
