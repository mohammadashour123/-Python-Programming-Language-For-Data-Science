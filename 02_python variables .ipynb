{
 "cells": [
  {
   "cell_type": "markdown",
   "id": "2beebab8",
   "metadata": {},
   "source": [
    "<h1 style=\"color:purple\" align=\"center\">Python Variables Tutorial</h1>"
   ]
  },
  {
   "cell_type": "code",
   "execution_count": 1,
   "id": "2a0ce356",
   "metadata": {},
   "outputs": [],
   "source": [
    "name = \"mohammad\""
   ]
  },
  {
   "cell_type": "code",
   "execution_count": 3,
   "id": "b2fd0fbc",
   "metadata": {},
   "outputs": [
    {
     "name": "stdout",
     "output_type": "stream",
     "text": [
      "mohammad\n"
     ]
    }
   ],
   "source": [
    "print(name)"
   ]
  },
  {
   "cell_type": "code",
   "execution_count": 4,
   "id": "631bb4de",
   "metadata": {},
   "outputs": [],
   "source": [
    "full_name = \"mohammd ashour\""
   ]
  },
  {
   "cell_type": "code",
   "execution_count": 5,
   "id": "f7bcd5d4",
   "metadata": {},
   "outputs": [
    {
     "name": "stdout",
     "output_type": "stream",
     "text": [
      "mohammd ashour\n"
     ]
    }
   ],
   "source": [
    "print(full_name)"
   ]
  },
  {
   "cell_type": "code",
   "execution_count": 6,
   "id": "83cd296a",
   "metadata": {},
   "outputs": [],
   "source": [
    "age = 20 "
   ]
  },
  {
   "cell_type": "code",
   "execution_count": 7,
   "id": "2b55907b",
   "metadata": {},
   "outputs": [
    {
     "name": "stdout",
     "output_type": "stream",
     "text": [
      "20\n"
     ]
    }
   ],
   "source": [
    "print(age)"
   ]
  },
  {
   "cell_type": "code",
   "execution_count": 9,
   "id": "b5db6929",
   "metadata": {},
   "outputs": [],
   "source": [
    "total_months = 1000 + 2000 + 5000"
   ]
  },
  {
   "cell_type": "code",
   "execution_count": 11,
   "id": "a9a8ae9f",
   "metadata": {},
   "outputs": [
    {
     "name": "stdout",
     "output_type": "stream",
     "text": [
      "8000\n"
     ]
    }
   ],
   "source": [
    "print(total_months)"
   ]
  },
  {
   "cell_type": "code",
   "execution_count": 12,
   "id": "4d92ee90",
   "metadata": {},
   "outputs": [
    {
     "name": "stdout",
     "output_type": "stream",
     "text": [
      "<class 'int'>\n"
     ]
    }
   ],
   "source": [
    "print(type(total_months))"
   ]
  },
  {
   "cell_type": "code",
   "execution_count": 13,
   "id": "9fc513c4",
   "metadata": {},
   "outputs": [
    {
     "name": "stdout",
     "output_type": "stream",
     "text": [
      "<class 'str'>\n"
     ]
    }
   ],
   "source": [
    "print(type(full_name))"
   ]
  },
  {
   "cell_type": "code",
   "execution_count": 14,
   "id": "e96578f8",
   "metadata": {},
   "outputs": [],
   "source": [
    "learn_python=True\n",
    "learn_fortran=False"
   ]
  },
  {
   "cell_type": "code",
   "execution_count": 15,
   "id": "0539e0b5",
   "metadata": {},
   "outputs": [
    {
     "name": "stdout",
     "output_type": "stream",
     "text": [
      "False\n"
     ]
    }
   ],
   "source": [
    "print(learn_fortran)"
   ]
  },
  {
   "cell_type": "code",
   "execution_count": 13,
   "id": "9cf1ca5b",
   "metadata": {},
   "outputs": [
    {
     "name": "stdout",
     "output_type": "stream",
     "text": [
      "True\n"
     ]
    }
   ],
   "source": [
    "print(learn_python)"
   ]
  },
  {
   "cell_type": "markdown",
   "id": "4519dd17",
   "metadata": {},
   "source": [
    "<h2 style=\"color:purple\" align=\"center\">variable naming rules</h2>\n"
   ]
  },
  {
   "cell_type": "code",
   "execution_count": 18,
   "id": "70a61e13",
   "metadata": {},
   "outputs": [
    {
     "ename": "SyntaxError",
     "evalue": "cannot assign to True (1533503370.py, line 1)",
     "output_type": "error",
     "traceback": [
      "\u001b[1;36m  Input \u001b[1;32mIn [18]\u001b[1;36m\u001b[0m\n\u001b[1;33m    True = \"mohammad\"\u001b[0m\n\u001b[1;37m    ^\u001b[0m\n\u001b[1;31mSyntaxError\u001b[0m\u001b[1;31m:\u001b[0m cannot assign to True\n"
     ]
    }
   ],
   "source": [
    "True = \"mohammad\""
   ]
  },
  {
   "cell_type": "code",
   "execution_count": 19,
   "id": "0c0803fd",
   "metadata": {},
   "outputs": [
    {
     "ename": "SyntaxError",
     "evalue": "cannot assign to operator (3056505076.py, line 1)",
     "output_type": "error",
     "traceback": [
      "\u001b[1;36m  Input \u001b[1;32mIn [19]\u001b[1;36m\u001b[0m\n\u001b[1;33m    foo+bar=5\u001b[0m\n\u001b[1;37m    ^\u001b[0m\n\u001b[1;31mSyntaxError\u001b[0m\u001b[1;31m:\u001b[0m cannot assign to operator\n"
     ]
    }
   ],
   "source": [
    "foo+bar=5"
   ]
  },
  {
   "cell_type": "code",
   "execution_count": 21,
   "id": "d1d092ee",
   "metadata": {},
   "outputs": [],
   "source": [
    "full_name = \"ali mosatfa\""
   ]
  },
  {
   "cell_type": "code",
   "execution_count": 16,
   "id": "07c1c7b9",
   "metadata": {},
   "outputs": [
    {
     "ename": "SyntaxError",
     "evalue": "invalid syntax (3515380384.py, line 1)",
     "output_type": "error",
     "traceback": [
      "\u001b[1;36m  Input \u001b[1;32mIn [16]\u001b[1;36m\u001b[0m\n\u001b[1;33m    4you=6\u001b[0m\n\u001b[1;37m     ^\u001b[0m\n\u001b[1;31mSyntaxError\u001b[0m\u001b[1;31m:\u001b[0m invalid syntax\n"
     ]
    }
   ],
   "source": [
    "4you=6"
   ]
  },
  {
   "cell_type": "code",
   "execution_count": 22,
   "id": "dba193f0",
   "metadata": {},
   "outputs": [
    {
     "ename": "SyntaxError",
     "evalue": "invalid syntax (2780468701.py, line 1)",
     "output_type": "error",
     "traceback": [
      "\u001b[1;36m  Input \u001b[1;32mIn [22]\u001b[1;36m\u001b[0m\n\u001b[1;33m    $hi=5\u001b[0m\n\u001b[1;37m    ^\u001b[0m\n\u001b[1;31mSyntaxError\u001b[0m\u001b[1;31m:\u001b[0m invalid syntax\n"
     ]
    }
   ],
   "source": [
    "$hi=5"
   ]
  },
  {
   "cell_type": "code",
   "execution_count": 18,
   "id": "ed6d32f6",
   "metadata": {
    "scrolled": true
   },
   "outputs": [
    {
     "ename": "SyntaxError",
     "evalue": "invalid syntax (3013886101.py, line 1)",
     "output_type": "error",
     "traceback": [
      "\u001b[1;36m  Input \u001b[1;32mIn [18]\u001b[1;36m\u001b[0m\n\u001b[1;33m    foo$bar=\"hello\"\u001b[0m\n\u001b[1;37m       ^\u001b[0m\n\u001b[1;31mSyntaxError\u001b[0m\u001b[1;31m:\u001b[0m invalid syntax\n"
     ]
    }
   ],
   "source": [
    "foo$bar=\"hello\""
   ]
  },
  {
   "cell_type": "code",
   "execution_count": 25,
   "id": "8a49bfdd",
   "metadata": {},
   "outputs": [
    {
     "name": "stdout",
     "output_type": "stream",
     "text": [
      "Mostafa Ali\n"
     ]
    }
   ],
   "source": [
    "first_name = \"Mostafa \"\n",
    "last_name = \"Ali\"\n",
    "print(first_name + last_name)\n",
    "full_name = first_name + last_name"
   ]
  },
  {
   "cell_type": "code",
   "execution_count": 26,
   "id": "f09acab8",
   "metadata": {},
   "outputs": [],
   "source": [
    "age = 20"
   ]
  },
  {
   "cell_type": "code",
   "execution_count": 30,
   "id": "8636689b",
   "metadata": {},
   "outputs": [
    {
     "name": "stdout",
     "output_type": "stream",
     "text": [
      "My Full g Is :  20\n"
     ]
    }
   ],
   "source": [
    "print(\"My Full g Is : \" , 20)"
   ]
  },
  {
   "cell_type": "code",
   "execution_count": null,
   "id": "a9347541",
   "metadata": {},
   "outputs": [],
   "source": []
  },
  {
   "cell_type": "markdown",
   "id": "4c484dd6",
   "metadata": {},
   "source": [
    "<h2 style=\"color:purple\" align=\"center\"> variable names are case sensitive</h2>\n",
    "\n"
   ]
  },
  {
   "cell_type": "code",
   "execution_count": 19,
   "id": "f3e3eb04",
   "metadata": {},
   "outputs": [
    {
     "name": "stdout",
     "output_type": "stream",
     "text": [
      "mohammad\n"
     ]
    }
   ],
   "source": [
    "name = \"mohammad\"\n",
    "print(name)"
   ]
  },
  {
   "cell_type": "code",
   "execution_count": 20,
   "id": "eebc2f91",
   "metadata": {},
   "outputs": [
    {
     "name": "stdout",
     "output_type": "stream",
     "text": [
      "ahmed\n"
     ]
    }
   ],
   "source": [
    "Name = \"ahmed\"\n",
    "print(Name)"
   ]
  },
  {
   "cell_type": "code",
   "execution_count": 21,
   "id": "b78d8f17",
   "metadata": {},
   "outputs": [
    {
     "name": "stdout",
     "output_type": "stream",
     "text": [
      "36\n"
     ]
    }
   ],
   "source": [
    "Age = 36 \n",
    "print(Age)"
   ]
  },
  {
   "cell_type": "code",
   "execution_count": 22,
   "id": "6a019d41",
   "metadata": {},
   "outputs": [
    {
     "name": "stdout",
     "output_type": "stream",
     "text": [
      "22\n"
     ]
    }
   ],
   "source": [
    "age = 22 \n",
    "print(age)"
   ]
  },
  {
   "cell_type": "markdown",
   "id": "4ec675d3",
   "metadata": {},
   "source": [
    "<h2 style=\"color:purple\" align=\"center\">Exercise</h2>\n",
    "\n",
    "\n"
   ]
  },
  {
   "cell_type": "markdown",
   "id": "2700f9a0",
   "metadata": {},
   "source": [
    "**1. Create a variable called break and assign it a value 5. See what happens and find out the reason behind the behavior that you see**"
   ]
  },
  {
   "cell_type": "markdown",
   "id": "c6ee2986",
   "metadata": {},
   "source": [
    "**2. Create two variables. One to store your birth year and another one to store current year. Now calculate your age using these two variables**"
   ]
  },
  {
   "cell_type": "markdown",
   "id": "f6fa7e9c",
   "metadata": {},
   "source": [
    "**3. Store your first, middle and last name in three different variables and then print your full name using these variables**"
   ]
  },
  {
   "cell_type": "code",
   "execution_count": null,
   "id": "f5d2a74d",
   "metadata": {},
   "outputs": [],
   "source": []
  }
 ],
 "metadata": {
  "kernelspec": {
   "display_name": "Python 3 (ipykernel)",
   "language": "python",
   "name": "python3"
  },
  "language_info": {
   "codemirror_mode": {
    "name": "ipython",
    "version": 3
   },
   "file_extension": ".py",
   "mimetype": "text/x-python",
   "name": "python",
   "nbconvert_exporter": "python",
   "pygments_lexer": "ipython3",
   "version": "3.9.12"
  }
 },
 "nbformat": 4,
 "nbformat_minor": 5
}
