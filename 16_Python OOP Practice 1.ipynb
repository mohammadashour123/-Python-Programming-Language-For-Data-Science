{
 "cells": [
  {
   "cell_type": "code",
   "execution_count": 46,
   "id": "7ae64355",
   "metadata": {},
   "outputs": [],
   "source": [
    "class Student : \n",
    "    \n",
    "    def __init__(self ,name ) :\n",
    "        \n",
    "        self.name = name \n",
    "        self.marks = []\n",
    "        \n",
    "        print(\"welcome to the school system\" , self.name)\n",
    "    \n",
    "    def add_marks(self , mark) :\n",
    "        self.marks.append(mark)\n",
    "    \n",
    "    def avg_marks(self):\n",
    "        return sum(self.marks)/ len(self.marks)\n",
    "        \n",
    "    def loc(self , location) :\n",
    "        self.location = location \n",
    "        \n",
    "    def display_all_info(self):\n",
    "        \n",
    "        print(f\"your name is {self.name} your locations is {self.location} \")\n",
    "        "
   ]
  },
  {
   "cell_type": "code",
   "execution_count": 29,
   "id": "a3d8dc80",
   "metadata": {},
   "outputs": [
    {
     "name": "stdout",
     "output_type": "stream",
     "text": [
      "welcome to the school system mohammad ashour \n"
     ]
    }
   ],
   "source": [
    "s1 = Student(\"mohammad ashour \")"
   ]
  },
  {
   "cell_type": "code",
   "execution_count": 30,
   "id": "85c2f8f1",
   "metadata": {},
   "outputs": [
    {
     "name": "stdout",
     "output_type": "stream",
     "text": [
      "[]\n"
     ]
    }
   ],
   "source": [
    "print(s1.marks)"
   ]
  },
  {
   "cell_type": "code",
   "execution_count": 31,
   "id": "89668767",
   "metadata": {},
   "outputs": [],
   "source": [
    "s1.add_marks(80)\n",
    "s1.add_marks(100)\n",
    "s1.add_marks(90)\n",
    "s1.add_marks(85)\n",
    "s1.add_marks(67)"
   ]
  },
  {
   "cell_type": "code",
   "execution_count": 32,
   "id": "a28e51ef",
   "metadata": {},
   "outputs": [
    {
     "name": "stdout",
     "output_type": "stream",
     "text": [
      "[80, 100, 90, 85, 67]\n"
     ]
    }
   ],
   "source": [
    "print(s1.marks)"
   ]
  },
  {
   "cell_type": "code",
   "execution_count": 33,
   "id": "7086d4da",
   "metadata": {},
   "outputs": [
    {
     "data": {
      "text/plain": [
       "84.4"
      ]
     },
     "execution_count": 33,
     "metadata": {},
     "output_type": "execute_result"
    }
   ],
   "source": [
    "s1.avg_marks()"
   ]
  },
  {
   "cell_type": "code",
   "execution_count": 34,
   "id": "aa9921e6",
   "metadata": {},
   "outputs": [],
   "source": [
    "s1.loc(\"Egypt\")"
   ]
  },
  {
   "cell_type": "code",
   "execution_count": 35,
   "id": "6cbd78c8",
   "metadata": {},
   "outputs": [
    {
     "name": "stdout",
     "output_type": "stream",
     "text": [
      "your name is mohammad ashour  your locations is Egypt\n"
     ]
    }
   ],
   "source": [
    "s1.display_all_info()"
   ]
  },
  {
   "cell_type": "code",
   "execution_count": 36,
   "id": "40eeec10",
   "metadata": {},
   "outputs": [
    {
     "name": "stdout",
     "output_type": "stream",
     "text": [
      "mohammad ashour \n"
     ]
    }
   ],
   "source": [
    "print(s1.name)"
   ]
  },
  {
   "cell_type": "code",
   "execution_count": 41,
   "id": "afad52e8",
   "metadata": {},
   "outputs": [
    {
     "name": "stdout",
     "output_type": "stream",
     "text": [
      "Egypt\n"
     ]
    }
   ],
   "source": [
    "print(s1.location)"
   ]
  },
  {
   "cell_type": "code",
   "execution_count": null,
   "id": "db78dd2d",
   "metadata": {},
   "outputs": [],
   "source": []
  }
 ],
 "metadata": {
  "kernelspec": {
   "display_name": "Python 3 (ipykernel)",
   "language": "python",
   "name": "python3"
  },
  "language_info": {
   "codemirror_mode": {
    "name": "ipython",
    "version": 3
   },
   "file_extension": ".py",
   "mimetype": "text/x-python",
   "name": "python",
   "nbconvert_exporter": "python",
   "pygments_lexer": "ipython3",
   "version": "3.9.12"
  }
 },
 "nbformat": 4,
 "nbformat_minor": 5
}
