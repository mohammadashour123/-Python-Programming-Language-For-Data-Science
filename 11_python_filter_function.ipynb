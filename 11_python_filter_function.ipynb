{
 "cells": [
  {
   "cell_type": "code",
   "execution_count": 1,
   "id": "c78fd8bb",
   "metadata": {},
   "outputs": [],
   "source": [
    "def even(num) : \n",
    "    if num%2 == 0 :\n",
    "        return True\n",
    "        "
   ]
  },
  {
   "cell_type": "code",
   "execution_count": 5,
   "id": "9af476dc",
   "metadata": {},
   "outputs": [],
   "source": [
    "even(9)"
   ]
  },
  {
   "cell_type": "code",
   "execution_count": null,
   "id": "cd53ef5f",
   "metadata": {},
   "outputs": [],
   "source": []
  },
  {
   "cell_type": "code",
   "execution_count": 6,
   "id": "70d3371d",
   "metadata": {},
   "outputs": [],
   "source": [
    "my_list_of_numbers = [1,2,3,5,4,88,12,65,0,45,9,75,78,64,2,15,17,91]"
   ]
  },
  {
   "cell_type": "code",
   "execution_count": 8,
   "id": "298eb8ee",
   "metadata": {},
   "outputs": [
    {
     "data": {
      "text/plain": [
       "[2, 4, 88, 12, 0, 78, 64, 2]"
      ]
     },
     "execution_count": 8,
     "metadata": {},
     "output_type": "execute_result"
    }
   ],
   "source": [
    "list(filter(even , my_list_of_numbers))"
   ]
  },
  {
   "cell_type": "code",
   "execution_count": null,
   "id": "c8cacc02",
   "metadata": {},
   "outputs": [],
   "source": []
  },
  {
   "cell_type": "code",
   "execution_count": 9,
   "id": "b2860666",
   "metadata": {},
   "outputs": [
    {
     "data": {
      "text/plain": [
       "[2, 4, 88, 12, 0, 78, 64, 2]"
      ]
     },
     "execution_count": 9,
     "metadata": {},
     "output_type": "execute_result"
    }
   ],
   "source": [
    "list(filter(even , my_list_of_numbers))"
   ]
  },
  {
   "cell_type": "code",
   "execution_count": 9,
   "id": "67c7b114",
   "metadata": {},
   "outputs": [],
   "source": [
    "def odd(num) : \n",
    "    if num%2 != 0 :\n",
    "        return True\n",
    "        "
   ]
  },
  {
   "cell_type": "code",
   "execution_count": 10,
   "id": "e02a9818",
   "metadata": {},
   "outputs": [],
   "source": [
    "my_list_of_numbers = [1,2,3,5,4,88,12,65,0,45,9,75,78,64,2,15,17,91]"
   ]
  },
  {
   "cell_type": "code",
   "execution_count": 12,
   "id": "c3b95c88",
   "metadata": {},
   "outputs": [
    {
     "data": {
      "text/plain": [
       "[1, 3, 5, 65, 45, 9, 75, 15, 17, 91]"
      ]
     },
     "execution_count": 12,
     "metadata": {},
     "output_type": "execute_result"
    }
   ],
   "source": [
    "list(filter(odd , my_list_of_numbers))"
   ]
  },
  {
   "cell_type": "code",
   "execution_count": null,
   "id": "d5b7b34a",
   "metadata": {},
   "outputs": [],
   "source": []
  },
  {
   "cell_type": "code",
   "execution_count": null,
   "id": "c68f12d9",
   "metadata": {},
   "outputs": [],
   "source": []
  }
 ],
 "metadata": {
  "kernelspec": {
   "display_name": "Python 3 (ipykernel)",
   "language": "python",
   "name": "python3"
  },
  "language_info": {
   "codemirror_mode": {
    "name": "ipython",
    "version": 3
   },
   "file_extension": ".py",
   "mimetype": "text/x-python",
   "name": "python",
   "nbconvert_exporter": "python",
   "pygments_lexer": "ipython3",
   "version": "3.9.12"
  }
 },
 "nbformat": 4,
 "nbformat_minor": 5
}
