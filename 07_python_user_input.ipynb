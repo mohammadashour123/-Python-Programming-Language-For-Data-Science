{
 "cells": [
  {
   "attachments": {
    "python_input_function.webp": {
     "image/webp": "[encoded data removed]"
    }
   },
   "cell_type": "markdown",
   "id": "02493f82",
   "metadata": {},
   "source": [
    "![python_input_function.webp](attachment:python_input_function.webp)"
   ]
  },
  {
   "cell_type": "code",
   "execution_count": 2,
   "id": "6a20834e",
   "metadata": {},
   "outputs": [],
   "source": [
    "x = 120 "
   ]
  },
  {
   "cell_type": "code",
   "execution_count": 3,
   "id": "860b2296",
   "metadata": {},
   "outputs": [
    {
     "name": "stdout",
     "output_type": "stream",
     "text": [
      "120\n"
     ]
    }
   ],
   "source": [
    "print(x)"
   ]
  },
  {
   "cell_type": "code",
   "execution_count": 4,
   "id": "262e2431",
   "metadata": {},
   "outputs": [
    {
     "name": "stdout",
     "output_type": "stream",
     "text": [
      "100\n"
     ]
    }
   ],
   "source": [
    "print(x - 20)"
   ]
  },
  {
   "cell_type": "code",
   "execution_count": 4,
   "id": "f428951d",
   "metadata": {},
   "outputs": [
    {
     "name": "stdout",
     "output_type": "stream",
     "text": [
      "enter your nameMohammad Ashour\n"
     ]
    }
   ],
   "source": [
    "user_input = input(\"enter your name\")"
   ]
  },
  {
   "cell_type": "code",
   "execution_count": 7,
   "id": "aa5cf67c",
   "metadata": {},
   "outputs": [
    {
     "name": "stdout",
     "output_type": "stream",
     "text": [
      "enter your age 25\n"
     ]
    }
   ],
   "source": [
    "user_input_2 = input(\"enter your age \")  "
   ]
  },
  {
   "cell_type": "code",
   "execution_count": 8,
   "id": "d4c35308",
   "metadata": {},
   "outputs": [
    {
     "name": "stdout",
     "output_type": "stream",
     "text": [
      "25\n"
     ]
    }
   ],
   "source": [
    "print(user_input_2)"
   ]
  },
  {
   "cell_type": "code",
   "execution_count": 5,
   "id": "b0f7fbe4",
   "metadata": {
    "scrolled": true
   },
   "outputs": [
    {
     "name": "stdout",
     "output_type": "stream",
     "text": [
      "Mohammad Ashour\n"
     ]
    }
   ],
   "source": [
    "print(user_input)"
   ]
  },
  {
   "cell_type": "code",
   "execution_count": 14,
   "id": "a03fc13a",
   "metadata": {},
   "outputs": [
    {
     "name": "stdout",
     "output_type": "stream",
     "text": [
      "enter your age: 20\n"
     ]
    }
   ],
   "source": [
    "user_input_2 = input(\"enter your age: \")"
   ]
  },
  {
   "cell_type": "code",
   "execution_count": 15,
   "id": "59af1642",
   "metadata": {},
   "outputs": [
    {
     "name": "stdout",
     "output_type": "stream",
     "text": [
      "20\n"
     ]
    }
   ],
   "source": [
    "print(user_input_2)"
   ]
  },
  {
   "cell_type": "code",
   "execution_count": 16,
   "id": "5fe55dd9",
   "metadata": {},
   "outputs": [],
   "source": [
    "days = user_input_2 * 365 "
   ]
  },
  {
   "cell_type": "code",
   "execution_count": 18,
   "id": "47eb2a00",
   "metadata": {},
   "outputs": [
    {
     "data": {
      "text/plain": [
       "7300"
      ]
     },
     "execution_count": 18,
     "metadata": {},
     "output_type": "execute_result"
    }
   ],
   "source": [
    "20  * 365 "
   ]
  },
  {
   "cell_type": "code",
   "execution_count": 17,
   "id": "1c2ff4e6",
   "metadata": {},
   "outputs": [
    {
     "name": "stdout",
     "output_type": "stream",
     "text": [
      "2020202020202020202020202020202020202020202020202020202020202020202020202020202020202020202020202020202020202020202020202020202020202020202020202020202020202020202020202020202020202020202020202020202020202020202020202020202020202020202020202020202020202020202020202020202020202020202020202020202020202020202020202020202020202020202020202020202020202020202020202020202020202020202020202020202020202020202020202020202020202020202020202020202020202020202020202020202020202020202020202020202020202020202020202020202020202020202020202020202020202020202020202020202020202020202020202020202020202020202020202020202020202020202020202020202020202020202020202020202020202020202020202020202020202020202020202020202020202020202020202020202020\n"
     ]
    }
   ],
   "source": [
    "print(days)"
   ]
  },
  {
   "cell_type": "code",
   "execution_count": 22,
   "id": "6656138d",
   "metadata": {},
   "outputs": [
    {
     "data": {
      "text/plain": [
       "'wrwrwrwrwrwrwrwrwrwrwrwrwrwrwrwrwrwrwrwrwrwrwrwrwrwrwrwrwrwrwrwrwrwrwrwrwrwrwrwrwrwrwrwrwrwrwrwrwrwrwrwrwrwrwrwrwrwrwrwrwrwrwrwrwrwrwrwrwrwrwrwrwrwrwrwrwrwrwrwrwrwrwrwrwrwrwrwrwrwrwrwrwrwrwrwrwrwrwrwrwrwrwrwrwrwrwrwrwrwrwrwrwrwrwrwrwrwrwrwrwrwrwrwrwrwrwrwrwrwrwrwrwrwrwrwrwrwrwrwrwrwrwrwrwrwrwrwrwrwrwrwrwrwrwrwrwrwrwrwrwrwrwrwrwrwrwrwrwrwrwrwrwrwrwrwrwrwrwrwrwrwrwrwrwrwrwrwrwrwrwrwrwrwrwrwrwrwrwrwr'"
      ]
     },
     "execution_count": 22,
     "metadata": {},
     "output_type": "execute_result"
    }
   ],
   "source": [
    "c = \"wr\"\n",
    "c*200"
   ]
  },
  {
   "cell_type": "code",
   "execution_count": 10,
   "id": "05eb3afb",
   "metadata": {},
   "outputs": [
    {
     "data": {
      "text/plain": [
       "'2020202020202020202020202020202020202020202020202020202020202020202020202020202020202020202020202020202020202020202020202020202020202020202020202020202020202020202020202020202020202020202020202020202020202020202020202020202020202020202020202020202020202020202020202020202020202020202020202020202020202020202020202020202020202020202020202020202020202020202020202020202020202020202020202020202020202020202020202020202020202020202020202020202020202020202020202020202020202020202020202020202020202020202020202020202020202020202020202020202020202020202020202020202020202020202020202020202020202020202020202020202020202020202020202020202020202020202020202020202020202020202020202020202020202020202020202020202020202020202020202020202020'"
      ]
     },
     "execution_count": 10,
     "metadata": {},
     "output_type": "execute_result"
    }
   ],
   "source": [
    "days"
   ]
  },
  {
   "cell_type": "code",
   "execution_count": 11,
   "id": "edf29cdf",
   "metadata": {},
   "outputs": [],
   "source": [
    "## it's a string !!! "
   ]
  },
  {
   "cell_type": "code",
   "execution_count": 12,
   "id": "4c5ca231",
   "metadata": {},
   "outputs": [
    {
     "name": "stdout",
     "output_type": "stream",
     "text": [
      "<class 'str'>\n"
     ]
    }
   ],
   "source": [
    "print(type(user_input))"
   ]
  },
  {
   "cell_type": "code",
   "execution_count": 13,
   "id": "367ed040",
   "metadata": {},
   "outputs": [],
   "source": [
    "# convert input data type "
   ]
  },
  {
   "cell_type": "code",
   "execution_count": 23,
   "id": "4e7fd0b4",
   "metadata": {},
   "outputs": [
    {
     "name": "stdout",
     "output_type": "stream",
     "text": [
      "enter a number ! 20\n"
     ]
    }
   ],
   "source": [
    "user_input_3 = int(input(\"enter a number ! \"))"
   ]
  },
  {
   "cell_type": "code",
   "execution_count": 24,
   "id": "95e1d8e7",
   "metadata": {},
   "outputs": [
    {
     "name": "stdout",
     "output_type": "stream",
     "text": [
      "<class 'int'>\n"
     ]
    }
   ],
   "source": [
    "print(type(user_input_3))"
   ]
  },
  {
   "cell_type": "code",
   "execution_count": 25,
   "id": "16974e07",
   "metadata": {},
   "outputs": [
    {
     "name": "stdout",
     "output_type": "stream",
     "text": [
      "7300\n"
     ]
    }
   ],
   "source": [
    "print(user_input_3 * 365)"
   ]
  },
  {
   "cell_type": "code",
   "execution_count": 27,
   "id": "84c765df",
   "metadata": {},
   "outputs": [
    {
     "name": "stdout",
     "output_type": "stream",
     "text": [
      "enter a float number ! 5.6\n"
     ]
    }
   ],
   "source": [
    "user_input_4 = float(input(\"enter a float number ! \"))"
   ]
  },
  {
   "cell_type": "code",
   "execution_count": 28,
   "id": "e4a98c26",
   "metadata": {},
   "outputs": [
    {
     "name": "stdout",
     "output_type": "stream",
     "text": [
      "5.6\n"
     ]
    }
   ],
   "source": [
    "print(user_input_4)"
   ]
  },
  {
   "cell_type": "code",
   "execution_count": 29,
   "id": "5f4c17dd",
   "metadata": {},
   "outputs": [
    {
     "name": "stdout",
     "output_type": "stream",
     "text": [
      "<class 'float'>\n"
     ]
    }
   ],
   "source": [
    "print(type(user_input_4))"
   ]
  },
  {
   "cell_type": "code",
   "execution_count": 4,
   "id": "3241c802",
   "metadata": {},
   "outputs": [
    {
     "name": "stdout",
     "output_type": "stream",
     "text": [
      "enter num5.6\n"
     ]
    }
   ],
   "source": [
    "num = eval(input(\"enter num\"))"
   ]
  },
  {
   "cell_type": "code",
   "execution_count": 5,
   "id": "ef8009ae",
   "metadata": {},
   "outputs": [
    {
     "data": {
      "text/plain": [
       "5.6"
      ]
     },
     "execution_count": 5,
     "metadata": {},
     "output_type": "execute_result"
    }
   ],
   "source": [
    "num"
   ]
  },
  {
   "cell_type": "code",
   "execution_count": 6,
   "id": "9d76eba2",
   "metadata": {},
   "outputs": [
    {
     "data": {
      "text/plain": [
       "float"
      ]
     },
     "execution_count": 6,
     "metadata": {},
     "output_type": "execute_result"
    }
   ],
   "source": [
    "type(num)"
   ]
  },
  {
   "cell_type": "code",
   "execution_count": null,
   "id": "47c5ccfc",
   "metadata": {},
   "outputs": [],
   "source": []
  }
 ],
 "metadata": {
  "kernelspec": {
   "display_name": "Python 3 (ipykernel)",
   "language": "python",
   "name": "python3"
  },
  "language_info": {
   "codemirror_mode": {
    "name": "ipython",
    "version": 3
   },
   "file_extension": ".py",
   "mimetype": "text/x-python",
   "name": "python",
   "nbconvert_exporter": "python",
   "pygments_lexer": "ipython3",
   "version": "3.9.12"
  }
 },
 "nbformat": 4,
 "nbformat_minor": 5
}
