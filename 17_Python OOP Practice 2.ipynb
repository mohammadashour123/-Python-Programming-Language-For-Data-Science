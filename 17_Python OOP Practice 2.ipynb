{
 "cells": [
  {
   "cell_type": "code",
   "execution_count": 5,
   "id": "7168682d",
   "metadata": {},
   "outputs": [],
   "source": [
    "class Calc : \n",
    "    \n",
    "    def __init__(self , n1 , n2) : \n",
    "        self.n1 = n1 \n",
    "        self.n2  = n2 \n",
    "        \n",
    "    def sum_nums(self) : \n",
    "        return self.n1 + self.n2\n",
    "    \n",
    "        \n",
    "    def mul_nums(self) : \n",
    "        return self.n1 * self.n2\n",
    "    \n",
    "        \n",
    "    def sub_nums(self) : \n",
    "        return self.n1 - self.n2\n",
    "    \n",
    "        \n",
    "    def div_nums(self) : \n",
    "        return self.n1 / self.n2\n",
    "    \n",
    "            \n",
    "    def mod_nums(self) : \n",
    "        return self.n1 % self.n2\n",
    "    \n",
    "        "
   ]
  },
  {
   "cell_type": "code",
   "execution_count": 7,
   "id": "e76b10b8",
   "metadata": {},
   "outputs": [],
   "source": [
    "calc1 = Calc(10 , 20)"
   ]
  },
  {
   "cell_type": "code",
   "execution_count": 9,
   "id": "07b39692",
   "metadata": {},
   "outputs": [
    {
     "name": "stdout",
     "output_type": "stream",
     "text": [
      "30\n"
     ]
    }
   ],
   "source": [
    "print(calc1.sum_nums())"
   ]
  },
  {
   "cell_type": "code",
   "execution_count": 10,
   "id": "8a088739",
   "metadata": {},
   "outputs": [
    {
     "name": "stdout",
     "output_type": "stream",
     "text": [
      "10\n"
     ]
    }
   ],
   "source": [
    "print(calc1.mod_nums())"
   ]
  },
  {
   "cell_type": "code",
   "execution_count": 11,
   "id": "7eb8f681",
   "metadata": {},
   "outputs": [
    {
     "name": "stdout",
     "output_type": "stream",
     "text": [
      "200\n"
     ]
    }
   ],
   "source": [
    "print(calc1.mul_nums())"
   ]
  },
  {
   "cell_type": "code",
   "execution_count": 12,
   "id": "3abdbd01",
   "metadata": {},
   "outputs": [
    {
     "name": "stdout",
     "output_type": "stream",
     "text": [
      "-10\n"
     ]
    }
   ],
   "source": [
    "print(calc1.sub_nums())"
   ]
  },
  {
   "cell_type": "code",
   "execution_count": 13,
   "id": "3e5f4275",
   "metadata": {},
   "outputs": [
    {
     "name": "stdout",
     "output_type": "stream",
     "text": [
      "30\n"
     ]
    }
   ],
   "source": [
    "print(calc1.sum_nums())"
   ]
  },
  {
   "cell_type": "code",
   "execution_count": 14,
   "id": "cc506c33",
   "metadata": {},
   "outputs": [],
   "source": [
    "calc2 = Calc(50 , 30)"
   ]
  },
  {
   "cell_type": "code",
   "execution_count": null,
   "id": "34d157a3",
   "metadata": {},
   "outputs": [],
   "source": []
  }
 ],
 "metadata": {
  "kernelspec": {
   "display_name": "Python 3 (ipykernel)",
   "language": "python",
   "name": "python3"
  },
  "language_info": {
   "codemirror_mode": {
    "name": "ipython",
    "version": 3
   },
   "file_extension": ".py",
   "mimetype": "text/x-python",
   "name": "python",
   "nbconvert_exporter": "python",
   "pygments_lexer": "ipython3",
   "version": "3.9.12"
  }
 },
 "nbformat": 4,
 "nbformat_minor": 5
}
